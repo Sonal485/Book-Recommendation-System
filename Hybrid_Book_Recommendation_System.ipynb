{
 "cells": [
  {
   "cell_type": "markdown",
   "id": "f26a5aa0",
   "metadata": {},
   "source": [
    "# Hybrid Book Recommendation System"
   ]
  },
  {
   "cell_type": "markdown",
   "id": "a3978a0a",
   "metadata": {},
   "source": [
    "Initiate Pyspark"
   ]
  },
  {
   "cell_type": "code",
   "execution_count": 1,
   "id": "fc7aac69",
   "metadata": {},
   "outputs": [
    {
     "data": {
      "text/plain": [
       "'C:\\\\Spark\\\\spark-3.1.2-bin-hadoop3.2'"
      ]
     },
     "execution_count": 1,
     "metadata": {},
     "output_type": "execute_result"
    }
   ],
   "source": [
    "# To initiate PySPark in Jupyter Notebook\n",
    "import findspark\n",
    "findspark.init()\n",
    "\n",
    "findspark.find()\n",
    "import pyspark\n",
    "findspark.find()"
   ]
  },
  {
   "cell_type": "markdown",
   "id": "75d7b314",
   "metadata": {},
   "source": [
    "# Import Libraries"
   ]
  },
  {
   "cell_type": "code",
   "execution_count": 2,
   "id": "76babb75",
   "metadata": {},
   "outputs": [],
   "source": [
    "from pyspark import SparkContext\n",
    "from pyspark.sql import SparkSession, SQLContext, types\n",
    "from pyspark.ml.evaluation import RegressionEvaluator\n",
    "from pyspark.ml.recommendation import ALS\n",
    "from pyspark.ml.tuning import CrossValidator , ParamGridBuilder\n",
    "from pyspark.sql.functions import col\n",
    "import numpy as np\n",
    "from pyspark.sql.types import IntegerType\n",
    "from pyspark.ml.feature import Imputer\n",
    "from pyspark.ml.feature import VectorAssembler\n",
    "from pyspark.ml.feature import StandardScaler\n",
    "from pyspark.ml.clustering import KMeans\n",
    "from pyspark.ml.evaluation import ClusteringEvaluator\n",
    "import matplotlib.pyplot as plt\n",
    "from IPython.display import Image\n",
    "from IPython.display import display\n",
    "import pandas as pd\n",
    "\n",
    "sc = SparkContext.getOrCreate()\n",
    "sqlContext = SQLContext(sc)"
   ]
  },
  {
   "cell_type": "markdown",
   "id": "50f2fb0b",
   "metadata": {},
   "source": [
    "# Read and Print Schema"
   ]
  },
  {
   "cell_type": "code",
   "execution_count": 3,
   "id": "4b4b307d",
   "metadata": {},
   "outputs": [
    {
     "name": "stdout",
     "output_type": "stream",
     "text": [
      "root\n",
      " |-- id: integer (nullable = true)\n",
      " |-- user_id: integer (nullable = true)\n",
      " |-- rating: integer (nullable = true)\n",
      "\n"
     ]
    }
   ],
   "source": [
    "# Reading and Printing Schema for Ratings.csv\n",
    "\n",
    "spark = SparkSession.builder.master('local').appName('brsals').getOrCreate()\n",
    "ratings_df = spark.read.csv('ratings.csv', header = True, inferSchema = True)\n",
    "ratings_df.printSchema()"
   ]
  },
  {
   "cell_type": "markdown",
   "id": "c533519c",
   "metadata": {},
   "source": [
    "# Display top 5 rows"
   ]
  },
  {
   "cell_type": "code",
   "execution_count": 4,
   "id": "64c69709",
   "metadata": {},
   "outputs": [
    {
     "name": "stdout",
     "output_type": "stream",
     "text": [
      "+---+-------+------+\n",
      "| id|user_id|rating|\n",
      "+---+-------+------+\n",
      "|  1|    314|     5|\n",
      "|  1|    439|     3|\n",
      "|  1|    588|     5|\n",
      "|  1|   1169|     4|\n",
      "|  1|   1185|     4|\n",
      "+---+-------+------+\n",
      "only showing top 5 rows\n",
      "\n"
     ]
    }
   ],
   "source": [
    "# Displaying top 5 rows of Ratings.csv\n",
    "\n",
    "ratings_df.show(5)"
   ]
  },
  {
   "cell_type": "markdown",
   "id": "d5ea987a",
   "metadata": {},
   "source": [
    "Read and Print Schema for books.csv"
   ]
  },
  {
   "cell_type": "code",
   "execution_count": 5,
   "id": "70ce2b52",
   "metadata": {},
   "outputs": [
    {
     "name": "stdout",
     "output_type": "stream",
     "text": [
      "root\n",
      " |-- id: integer (nullable = true)\n",
      " |-- book_id: integer (nullable = true)\n",
      " |-- best_book_id: integer (nullable = true)\n",
      " |-- work_id: integer (nullable = true)\n",
      " |-- books_count: integer (nullable = true)\n",
      " |-- isbn: string (nullable = true)\n",
      " |-- isbn13: double (nullable = true)\n",
      " |-- authors: string (nullable = true)\n",
      " |-- original_publication_year: double (nullable = true)\n",
      " |-- original_title: string (nullable = true)\n",
      " |-- title: string (nullable = true)\n",
      " |-- language_code: string (nullable = true)\n",
      " |-- average_rating: string (nullable = true)\n",
      " |-- ratings_count: string (nullable = true)\n",
      " |-- work_ratings_count: string (nullable = true)\n",
      " |-- work_text_reviews_count: string (nullable = true)\n",
      " |-- ratings_1: double (nullable = true)\n",
      " |-- ratings_2: integer (nullable = true)\n",
      " |-- ratings_3: integer (nullable = true)\n",
      " |-- ratings_4: integer (nullable = true)\n",
      " |-- ratings_5: integer (nullable = true)\n",
      " |-- image_url: string (nullable = true)\n",
      " |-- small_image_url: string (nullable = true)\n",
      "\n"
     ]
    }
   ],
   "source": [
    "# Reading and Printing Schema for books.csv\n",
    "\n",
    "books_df = spark.read.csv('books.csv', header = True, inferSchema = True)\n",
    "books_df.printSchema()"
   ]
  },
  {
   "cell_type": "markdown",
   "id": "b1290f16",
   "metadata": {},
   "source": [
    "Display top 2 rows of books.csv"
   ]
  },
  {
   "cell_type": "code",
   "execution_count": 6,
   "id": "97bc0663",
   "metadata": {},
   "outputs": [
    {
     "name": "stdout",
     "output_type": "stream",
     "text": [
      "+---+-------+------------+-------+-----------+---------+----------------+--------------------+-------------------------+--------------------+--------------------+-------------+--------------+-------------+------------------+-----------------------+---------+---------+---------+---------+---------+--------------------+--------------------+\n",
      "| id|book_id|best_book_id|work_id|books_count|     isbn|          isbn13|             authors|original_publication_year|      original_title|               title|language_code|average_rating|ratings_count|work_ratings_count|work_text_reviews_count|ratings_1|ratings_2|ratings_3|ratings_4|ratings_5|           image_url|     small_image_url|\n",
      "+---+-------+------------+-------+-----------+---------+----------------+--------------------+-------------------------+--------------------+--------------------+-------------+--------------+-------------+------------------+-----------------------+---------+---------+---------+---------+---------+--------------------+--------------------+\n",
      "|  1|2767052|     2767052|2792775|        272|439023483|9.78043902348E12|     Suzanne Collins|                   2008.0|    The Hunger Games|The Hunger Games ...|          eng|          4.34|      4780653|           4942365|                 155254|  66715.0|   127936|   560092|  1481305|  2706317|https://images.gr...|https://images.gr...|\n",
      "|  2|      3|           3|4640799|        491|439554934|9.78043955493E12|J.K. Rowling, Mar...|                   1997.0|Harry Potter and ...|Harry Potter and ...|          eng|          4.44|      4602479|           4800065|                  75867|  75504.0|   101676|   455024|  1156318|  3011543|https://images.gr...|https://images.gr...|\n",
      "+---+-------+------------+-------+-----------+---------+----------------+--------------------+-------------------------+--------------------+--------------------+-------------+--------------+-------------+------------------+-----------------------+---------+---------+---------+---------+---------+--------------------+--------------------+\n",
      "only showing top 2 rows\n",
      "\n"
     ]
    }
   ],
   "source": [
    "# Displaying top 2 rows of books.csv\n",
    "\n",
    "books_df.show(2)"
   ]
  },
  {
   "cell_type": "markdown",
   "id": "4fdb5e86",
   "metadata": {},
   "source": [
    "# Alternating Least Squares"
   ]
  },
  {
   "cell_type": "markdown",
   "id": "fca69d30",
   "metadata": {},
   "source": [
    "Splitting data into Training and Testing"
   ]
  },
  {
   "cell_type": "code",
   "execution_count": 7,
   "id": "371f4e86",
   "metadata": {},
   "outputs": [],
   "source": [
    "training_df , validation_df = ratings_df.randomSplit([0.8 , 0.2])"
   ]
  },
  {
   "cell_type": "code",
   "execution_count": 8,
   "id": "152eaa4d",
   "metadata": {},
   "outputs": [],
   "source": [
    "iterations = 10\n",
    "regularization_parameter = 0.1 #lambda\n",
    "rank = 4\n",
    "errors = []\n",
    "err = 0"
   ]
  },
  {
   "cell_type": "markdown",
   "id": "61923a87",
   "metadata": {},
   "source": [
    "# Training ALS Model"
   ]
  },
  {
   "cell_type": "code",
   "execution_count": 9,
   "id": "7c55a097",
   "metadata": {},
   "outputs": [
    {
     "name": "stdout",
     "output_type": "stream",
     "text": [
      "Root Mean Square Error Value = 0.9018084254476203\n"
     ]
    }
   ],
   "source": [
    "# Training ALS Model\n",
    "\n",
    "als = ALS(maxIter = iterations , regParam = regularization_parameter , rank = 4 , userCol = \"user_id\" , itemCol= \"id\",\n",
    "         ratingCol = \"rating\")\n",
    "model = als.fit(training_df)\n",
    "predictions = model.transform(validation_df)\n",
    "new_predictions = predictions.filter(col('prediction') !=np.nan)\n",
    "evaluator = RegressionEvaluator(metricName = \"rmse\" , labelCol = \"rating\" , predictionCol = \"prediction\")\n",
    "rmse = evaluator.evaluate(new_predictions)\n",
    "print(\"Root Mean Square Error Value = \" +str(rmse))"
   ]
  },
  {
   "cell_type": "markdown",
   "id": "95418fa7",
   "metadata": {},
   "source": [
    "# Root Mean Square Error"
   ]
  },
  {
   "cell_type": "code",
   "execution_count": 10,
   "id": "b8f218f3",
   "metadata": {},
   "outputs": [
    {
     "name": "stdout",
     "output_type": "stream",
     "text": [
      "Rank :  4  Root Mean Square Error Value = 0.9018084254476203\n",
      "Rank :  5  Root Mean Square Error Value = 0.9049825366081121\n"
     ]
    }
   ],
   "source": [
    "# Finding different RMSE Rank value for ALS Model\n",
    "\n",
    "for rank in range(4,6):\n",
    "    als = ALS(maxIter = iterations , regParam = regularization_parameter , rank = rank , userCol = \"user_id\" , itemCol= \"id\",\n",
    "         ratingCol = \"rating\")\n",
    "    modeli = als.fit(training_df)\n",
    "    predictions = modeli.transform(validation_df)\n",
    "    new_predictions = predictions.filter(col('prediction') !=np.nan)\n",
    "    evaluator = RegressionEvaluator(metricName = \"rmse\" , labelCol = \"rating\" , predictionCol = \"prediction\")\n",
    "    rmse = evaluator.evaluate(new_predictions)\n",
    "    print(\"Rank : \" ,rank , \" Root Mean Square Error Value = \" +str(rmse))"
   ]
  },
  {
   "cell_type": "code",
   "execution_count": 11,
   "id": "c9dbdce0",
   "metadata": {},
   "outputs": [
    {
     "name": "stdout",
     "output_type": "stream",
     "text": [
      "+---+-------+------+----------+\n",
      "| id|user_id|rating|prediction|\n",
      "+---+-------+------+----------+\n",
      "|148|  28767|     3| 2.9633281|\n",
      "|148|  24326|     5|  3.503193|\n",
      "+---+-------+------+----------+\n",
      "only showing top 2 rows\n",
      "\n"
     ]
    }
   ],
   "source": [
    "predictions = model.transform(validation_df)\n",
    "predictions.show(n=2)"
   ]
  },
  {
   "cell_type": "code",
   "execution_count": 12,
   "id": "3933d7f8",
   "metadata": {},
   "outputs": [
    {
     "name": "stdout",
     "output_type": "stream",
     "text": [
      "+-------+--------------------+----------+\n",
      "|user_id|               title|prediction|\n",
      "+-------+--------------------+----------+\n",
      "|  28767|Girl with a Pearl...| 2.9633281|\n",
      "|  24326|Girl with a Pearl...|  3.503193|\n",
      "+-------+--------------------+----------+\n",
      "only showing top 2 rows\n",
      "\n"
     ]
    }
   ],
   "source": [
    "predictions.join(books_df , \"id\").select(\"user_id\" , \"title\" , \"prediction\").show(2)"
   ]
  },
  {
   "cell_type": "code",
   "execution_count": 13,
   "id": "c195d361",
   "metadata": {},
   "outputs": [
    {
     "data": {
      "text/plain": [
       "31"
      ]
     },
     "execution_count": 13,
     "metadata": {},
     "output_type": "execute_result"
    }
   ],
   "source": [
    "for_one_user = predictions.filter(col(\"user_id\") == 35982).join(books_df , \"id\").select(\"user_id\" , \"title\" , \"image_url\" , \"prediction\")\n",
    "for_one_user.count()"
   ]
  },
  {
   "cell_type": "code",
   "execution_count": 14,
   "id": "303c60b5",
   "metadata": {},
   "outputs": [
    {
     "name": "stdout",
     "output_type": "stream",
     "text": [
      "+-------+--------------------+--------------------+----------+\n",
      "|user_id|               title|           image_url|prediction|\n",
      "+-------+--------------------+--------------------+----------+\n",
      "|  35982| Slaughterhouse-Five|https://images.gr...|  4.513252|\n",
      "|  35982|The Raven King (T...|https://images.gr...|  3.428703|\n",
      "|  35982|The Goose Girl (T...|https://images.gr...| 3.2503211|\n",
      "|  35982|Fear and Loathing...|https://images.gr...| 3.7446496|\n",
      "|  35982|Artemis Fowl (Art...|https://images.gr...| 3.3443315|\n",
      "|  35982|The Maze Runner (...|https://images.gr...|  2.829867|\n",
      "|  35982|Anna and the Fren...|https://images.gr...| 2.5472775|\n",
      "|  35982|One Hundred Years...|https://images.gr...|  4.432684|\n",
      "|  35982|I, Robot (Robot #...|https://images.gr...| 3.8810425|\n",
      "|  35982|The Hitchhiker's ...|https://images.gr...| 4.1193376|\n",
      "|  35982|City of Fallen An...|https://images.gr...|  2.226519|\n",
      "|  35982|I Am Legend and O...|https://images.gr...| 3.7441182|\n",
      "|  35982|It's Kind of a Fu...|https://images.gr...|  3.832034|\n",
      "|  35982|  A Room with a View|https://s.gr-asse...| 3.5660238|\n",
      "|  35982|The Complete Calv...|https://images.gr...| 4.9371495|\n",
      "|  35982|World War Z: An O...|https://images.gr...| 3.5389457|\n",
      "|  35982|   Holes (Holes, #1)|https://images.gr...| 3.6340318|\n",
      "|  35982|Howl's Moving Cas...|https://images.gr...| 4.0196533|\n",
      "|  35982|American Gods (Am...|https://images.gr...| 4.0561194|\n",
      "|  35982|The Importance of...|https://s.gr-asse...| 3.7619336|\n",
      "+-------+--------------------+--------------------+----------+\n",
      "only showing top 20 rows\n",
      "\n"
     ]
    }
   ],
   "source": [
    "for_one_user.show()"
   ]
  },
  {
   "cell_type": "code",
   "execution_count": 15,
   "id": "e2a2d155",
   "metadata": {},
   "outputs": [
    {
     "name": "stdout",
     "output_type": "stream",
     "text": [
      "Slaughterhouse-Five\n"
     ]
    },
    {
     "data": {
      "text/html": [
       "<img src=\"https://images.gr-assets.com/books/1440319389m/4981.jpg\"/>"
      ],
      "text/plain": [
       "<IPython.core.display.Image object>"
      ]
     },
     "metadata": {},
     "output_type": "display_data"
    },
    {
     "name": "stdout",
     "output_type": "stream",
     "text": [
      "The Raven King (The Raven Cycle, #4)\n"
     ]
    },
    {
     "data": {
      "text/html": [
       "<img src=\"https://images.gr-assets.com/books/1477103790m/17378527.jpg\"/>"
      ],
      "text/plain": [
       "<IPython.core.display.Image object>"
      ]
     },
     "metadata": {},
     "output_type": "display_data"
    },
    {
     "name": "stdout",
     "output_type": "stream",
     "text": [
      "The Goose Girl (The Books of Bayern, #1)\n"
     ]
    },
    {
     "data": {
      "text/html": [
       "<img src=\"https://images.gr-assets.com/books/1330728389m/179064.jpg\"/>"
      ],
      "text/plain": [
       "<IPython.core.display.Image object>"
      ]
     },
     "metadata": {},
     "output_type": "display_data"
    },
    {
     "name": "stdout",
     "output_type": "stream",
     "text": [
      "Fear and Loathing in Las Vegas\n"
     ]
    },
    {
     "data": {
      "text/html": [
       "<img src=\"https://images.gr-assets.com/books/1394204569m/7745.jpg\"/>"
      ],
      "text/plain": [
       "<IPython.core.display.Image object>"
      ]
     },
     "metadata": {},
     "output_type": "display_data"
    },
    {
     "name": "stdout",
     "output_type": "stream",
     "text": [
      "Artemis Fowl (Artemis Fowl, #1)\n"
     ]
    },
    {
     "data": {
      "text/html": [
       "<img src=\"https://images.gr-assets.com/books/1327945104m/249747.jpg\"/>"
      ],
      "text/plain": [
       "<IPython.core.display.Image object>"
      ]
     },
     "metadata": {},
     "output_type": "display_data"
    }
   ],
   "source": [
    "for book in for_one_user.take(5):\n",
    "    print(book.title)\n",
    "    display(Image(url=book.image_url))"
   ]
  },
  {
   "cell_type": "markdown",
   "id": "eb520a8e",
   "metadata": {},
   "source": [
    "Generate top 2 recommendations"
   ]
  },
  {
   "cell_type": "code",
   "execution_count": 16,
   "id": "1f5f433b",
   "metadata": {},
   "outputs": [],
   "source": [
    "#Generate top 2 recommendations for each user\n",
    "\n",
    "userRecomments = model.recommendForAllUsers(2)"
   ]
  },
  {
   "cell_type": "markdown",
   "id": "75232b81",
   "metadata": {},
   "source": [
    "Show 10 users with 2 recommended books"
   ]
  },
  {
   "cell_type": "code",
   "execution_count": 17,
   "id": "10a404f5",
   "metadata": {},
   "outputs": [
    {
     "name": "stdout",
     "output_type": "stream",
     "text": [
      "+-------+------------+\n",
      "|user_id|id          |\n",
      "+-------+------------+\n",
      "|148    |[4868, 9076]|\n",
      "|463    |[3628, 1788]|\n",
      "|471    |[7913, 8831]|\n",
      "|496    |[4868, 1338]|\n",
      "|833    |[9842, 8913]|\n",
      "|1088   |[7593, 9008]|\n",
      "|1238   |[4154, 4868]|\n",
      "|1342   |[3628, 1788]|\n",
      "|1580   |[4868, 6659]|\n",
      "|1591   |[1338, 4154]|\n",
      "+-------+------------+\n",
      "only showing top 10 rows\n",
      "\n"
     ]
    }
   ],
   "source": [
    "# Showing 10 users with 2 recommended books each\n",
    "\n",
    "userRecomments.select(\"user_id\" , \"recommendations.id\").show(10, False)"
   ]
  },
  {
   "cell_type": "markdown",
   "id": "0265bf84",
   "metadata": {},
   "source": [
    "# Schema for recommendation"
   ]
  },
  {
   "cell_type": "code",
   "execution_count": 18,
   "id": "f27c0b0c",
   "metadata": {},
   "outputs": [
    {
     "name": "stdout",
     "output_type": "stream",
     "text": [
      "root\n",
      " |-- user_id: integer (nullable = false)\n",
      " |-- recommendations: array (nullable = true)\n",
      " |    |-- element: struct (containsNull = true)\n",
      " |    |    |-- id: integer (nullable = true)\n",
      " |    |    |-- rating: float (nullable = true)\n",
      "\n"
     ]
    }
   ],
   "source": [
    "#Schema for recommendation\n",
    "\n",
    "userRecomments.printSchema()"
   ]
  },
  {
   "cell_type": "markdown",
   "id": "72650a6e",
   "metadata": {},
   "source": [
    "# Taking input for user id"
   ]
  },
  {
   "cell_type": "code",
   "execution_count": 19,
   "id": "55ac39bd",
   "metadata": {},
   "outputs": [
    {
     "name": "stdout",
     "output_type": "stream",
     "text": [
      "Enter your ID:314\n",
      "+-------+\n",
      "|User_id|\n",
      "+-------+\n",
      "|    314|\n",
      "+-------+\n",
      "\n"
     ]
    }
   ],
   "source": [
    "# Instead of generating recommendation for all the users we are taking input as user id from the user\n",
    "\n",
    "name_id = int(input(\"Enter your ID:\"))\n",
    "u_id = {'User_id':[name_id]}\n",
    "u_id = pd.DataFrame(u_id)\n",
    "users = spark.createDataFrame(u_id)\n",
    "users.show()"
   ]
  },
  {
   "cell_type": "markdown",
   "id": "2e0187b6",
   "metadata": {},
   "source": [
    "# Generate Recommendation for one user"
   ]
  },
  {
   "cell_type": "code",
   "execution_count": 20,
   "id": "11c77729",
   "metadata": {},
   "outputs": [
    {
     "name": "stdout",
     "output_type": "stream",
     "text": [
      "+-------+--------------------+\n",
      "|user_id|     recommendations|\n",
      "+-------+--------------------+\n",
      "|    314|[{4868, 4.443824}...|\n",
      "+-------+--------------------+\n",
      "\n"
     ]
    }
   ],
   "source": [
    "usersSubsetRecs = model.recommendForUserSubset( users , 20)\n",
    "#Now we will generate recommendation for above 1 user_id , for that we will use api recommendForUserSubset\n",
    "userrecommend = usersSubsetRecs.select(\"user_id\",\"recommendations\")\n",
    "userrecommend.show()\n",
    "# Recommendations: List contains list of (book_id and predicted rating value) for all 20 books"
   ]
  },
  {
   "cell_type": "markdown",
   "id": "e5a5e027",
   "metadata": {},
   "source": [
    "# Recommended book id"
   ]
  },
  {
   "cell_type": "code",
   "execution_count": 21,
   "id": "057718d3",
   "metadata": {},
   "outputs": [
    {
     "name": "stdout",
     "output_type": "stream",
     "text": [
      "   user_id            recommendations    id  rate_prediction\n",
      "0      314   (4868, 4.44382381439209)  4868         4.443824\n",
      "0      314  (8362, 4.345755577087402)  8362         4.345756\n",
      "0      314   (862, 4.341344833374023)   862         4.341345\n",
      "0      314  (3628, 4.327874183654785)  3628         4.327874\n",
      "0      314  (6920, 4.294783592224121)  6920         4.294784\n",
      "0      314  (7844, 4.292680263519287)  7844         4.292680\n",
      "0      314   (562, 4.284457206726074)   562         4.284457\n",
      "0      314   (780, 4.276605606079102)   780         4.276606\n",
      "0      314  (6590, 4.273953437805176)  6590         4.273953\n",
      "0      314  (5207, 4.269815921783447)  5207         4.269816\n",
      "0      314  (9531, 4.266705513000488)  9531         4.266706\n",
      "0      314  (9566, 4.266182899475098)  9566         4.266183\n",
      "0      314  (9076, 4.263432502746582)  9076         4.263433\n",
      "0      314  (4483, 4.255186080932617)  4483         4.255186\n",
      "0      314  (3753, 4.247754096984863)  3753         4.247754\n",
      "0      314  (6902, 4.239516258239746)  6902         4.239516\n",
      "0      314  (8548, 4.238185882568359)  8548         4.238186\n",
      "0      314  (3491, 4.235194683074951)  3491         4.235195\n",
      "0      314  (6659, 4.234472274780273)  6659         4.234472\n",
      "0      314   (307, 4.232815742492676)   307         4.232816\n"
     ]
    }
   ],
   "source": [
    "# id are recommended book id by ALS Model\n",
    "\n",
    "rateexplode = userrecommend.select('*').toPandas()\n",
    "finalrecommend = rateexplode.explode('recommendations')\n",
    "finalrecommend[['id','rate_prediction']] = pd.DataFrame(finalrecommend['recommendations'].tolist(), index=finalrecommend.index)\n",
    "print(finalrecommend)"
   ]
  },
  {
   "cell_type": "markdown",
   "id": "b2616104",
   "metadata": {},
   "source": [
    "Converting into dataframes"
   ]
  },
  {
   "cell_type": "code",
   "execution_count": 22,
   "id": "44d49f41",
   "metadata": {},
   "outputs": [
    {
     "name": "stdout",
     "output_type": "stream",
     "text": [
      "+-------+----+-----------------+\n",
      "|user_id|  id|  rate_prediction|\n",
      "+-------+----+-----------------+\n",
      "|    314|4868| 4.44382381439209|\n",
      "|    314|8362|4.345755577087402|\n",
      "|    314| 862|4.341344833374023|\n",
      "|    314|3628|4.327874183654785|\n",
      "|    314|6920|4.294783592224121|\n",
      "|    314|7844|4.292680263519287|\n",
      "|    314| 562|4.284457206726074|\n",
      "|    314| 780|4.276605606079102|\n",
      "|    314|6590|4.273953437805176|\n",
      "|    314|5207|4.269815921783447|\n",
      "|    314|9531|4.266705513000488|\n",
      "|    314|9566|4.266182899475098|\n",
      "|    314|9076|4.263432502746582|\n",
      "|    314|4483|4.255186080932617|\n",
      "|    314|3753|4.247754096984863|\n",
      "|    314|6902|4.239516258239746|\n",
      "|    314|8548|4.238185882568359|\n",
      "|    314|3491|4.235194683074951|\n",
      "|    314|6659|4.234472274780273|\n",
      "|    314| 307|4.232815742492676|\n",
      "+-------+----+-----------------+\n",
      "\n"
     ]
    }
   ],
   "source": [
    "# Converting the above ALS Prediction list into DataFrames\n",
    "\n",
    "book_output = spark.createDataFrame(finalrecommend)\n",
    "book_output = book_output.select('user_id','id','rate_prediction')\n",
    "book_output.show()"
   ]
  },
  {
   "cell_type": "markdown",
   "id": "01ccf782",
   "metadata": {},
   "source": [
    "# K Means Algorithm"
   ]
  },
  {
   "cell_type": "code",
   "execution_count": 23,
   "id": "9b714141",
   "metadata": {},
   "outputs": [
    {
     "name": "stdout",
     "output_type": "stream",
     "text": [
      "+---+-------+------------+-------+-----------+---------+----------------+--------------------+-------------------------+--------------------+--------------------+-------------+--------------+-------------+------------------+-----------------------+---------+---------+---------+---------+---------+--------------------+--------------------+\n",
      "| id|book_id|best_book_id|work_id|books_count|     isbn|          isbn13|             authors|original_publication_year|      original_title|               title|language_code|average_rating|ratings_count|work_ratings_count|work_text_reviews_count|ratings_1|ratings_2|ratings_3|ratings_4|ratings_5|           image_url|     small_image_url|\n",
      "+---+-------+------------+-------+-----------+---------+----------------+--------------------+-------------------------+--------------------+--------------------+-------------+--------------+-------------+------------------+-----------------------+---------+---------+---------+---------+---------+--------------------+--------------------+\n",
      "|  1|2767052|     2767052|2792775|        272|439023483|9.78043902348E12|     Suzanne Collins|                   2008.0|    The Hunger Games|The Hunger Games ...|          eng|          4.34|      4780653|           4942365|                 155254|  66715.0|   127936|   560092|  1481305|  2706317|https://images.gr...|https://images.gr...|\n",
      "|  2|      3|           3|4640799|        491|439554934|9.78043955493E12|J.K. Rowling, Mar...|                   1997.0|Harry Potter and ...|Harry Potter and ...|          eng|          4.44|      4602479|           4800065|                  75867|  75504.0|   101676|   455024|  1156318|  3011543|https://images.gr...|https://images.gr...|\n",
      "+---+-------+------------+-------+-----------+---------+----------------+--------------------+-------------------------+--------------------+--------------------+-------------+--------------+-------------+------------------+-----------------------+---------+---------+---------+---------+---------+--------------------+--------------------+\n",
      "only showing top 2 rows\n",
      "\n"
     ]
    }
   ],
   "source": [
    "#Reading and displaying books.csv for KMeans Algorithm\n",
    "\n",
    "bks_df = spark.read.csv('books.csv', header = True, inferSchema = True)\n",
    "bks_df.show(2)"
   ]
  },
  {
   "cell_type": "markdown",
   "id": "a1b39dcd",
   "metadata": {},
   "source": [
    "# Converting String value columns to integer value for vectorizations"
   ]
  },
  {
   "cell_type": "code",
   "execution_count": 24,
   "id": "d93dfdd7",
   "metadata": {},
   "outputs": [],
   "source": [
    "# Converting String value columns to integer value for vectorizations\n",
    "\n",
    "bks_df = bks_df.withColumn('isbn', bks_df['isbn'].cast(IntegerType()))\n",
    "bks_df = bks_df.withColumn('average_rating', bks_df['average_rating'].cast(IntegerType()))\n",
    "bks_df = bks_df.withColumn('ratings_count', bks_df['ratings_count'].cast(IntegerType()))\n",
    "bks_df = bks_df.withColumn('work_ratings_count', bks_df['work_ratings_count'].cast(IntegerType()))\n",
    "bks_df = bks_df.withColumn('work_text_reviews_count', bks_df['work_text_reviews_count'].cast(IntegerType()))"
   ]
  },
  {
   "cell_type": "markdown",
   "id": "6377f18c",
   "metadata": {},
   "source": [
    "# Imputer Function"
   ]
  },
  {
   "cell_type": "code",
   "execution_count": 25,
   "id": "8e58aa6f",
   "metadata": {},
   "outputs": [
    {
     "name": "stdout",
     "output_type": "stream",
     "text": [
      "+---+-------+------------+-------+-----------+---------+----------------+--------------------+-------------------------+--------------------+--------------------+-------------+--------------+-------------+------------------+-----------------------+---------+---------+---------+---------+---------+--------------------+--------------------+\n",
      "| id|book_id|best_book_id|work_id|books_count|     isbn|          isbn13|             authors|original_publication_year|      original_title|               title|language_code|average_rating|ratings_count|work_ratings_count|work_text_reviews_count|ratings_1|ratings_2|ratings_3|ratings_4|ratings_5|           image_url|     small_image_url|\n",
      "+---+-------+------------+-------+-----------+---------+----------------+--------------------+-------------------------+--------------------+--------------------+-------------+--------------+-------------+------------------+-----------------------+---------+---------+---------+---------+---------+--------------------+--------------------+\n",
      "|  1|2767052|     2767052|2792775|        272|439023483|9.78043902348E12|     Suzanne Collins|                   2008.0|    The Hunger Games|The Hunger Games ...|          eng|             4|      4780653|           4942365|                 155254|  66715.0|   127936|   560092|  1481305|  2706317|https://images.gr...|https://images.gr...|\n",
      "|  2|      3|           3|4640799|        491|439554934|9.78043955493E12|J.K. Rowling, Mar...|                   1997.0|Harry Potter and ...|Harry Potter and ...|          eng|             4|      4602479|           4800065|                  75867|  75504.0|   101676|   455024|  1156318|  3011543|https://images.gr...|https://images.gr...|\n",
      "|  3|  41865|       41865|3212258|        226|316015849|9.78031601584E12|     Stephenie Meyer|                   2005.0|            Twilight|Twilight (Twiligh...|        en-US|             3|      3866839|           3916824|                  95009| 456191.0|   436802|   793319|   875073|  1355439|https://images.gr...|https://images.gr...|\n",
      "|  4|   2657|        2657|3275794|        487| 61120081|9.78006112008E12|          Harper Lee|                   1960.0|To Kill a Mocking...|To Kill a Mocking...|          eng|             4|      3198671|           3340896|                  72586|  60427.0|   117415|   446835|  1001952|  1714267|https://images.gr...|https://images.gr...|\n",
      "|  5|   4671|        4671| 245494|       1356|743273567|9.78074327356E12| F. Scott Fitzgerald|                   1925.0|    The Great Gatsby|    The Great Gatsby|          eng|             3|      2683664|           2773745|                  51992|  86236.0|   197621|   606158|   936012|   947718|https://images.gr...|https://images.gr...|\n",
      "+---+-------+------------+-------+-----------+---------+----------------+--------------------+-------------------------+--------------------+--------------------+-------------+--------------+-------------+------------------+-----------------------+---------+---------+---------+---------+---------+--------------------+--------------------+\n",
      "only showing top 5 rows\n",
      "\n"
     ]
    }
   ],
   "source": [
    "# Using Imputer function to fill in missing values for all the rows with mean, median or mode value\n",
    "\n",
    "imputer = Imputer(inputCols = ['id','books_count','isbn','original_publication_year','average_rating','ratings_count',\n",
    "                               'work_ratings_count','work_text_reviews_count','ratings_1','ratings_2','ratings_3','ratings_4',\n",
    "                              'ratings_5'], outputCols = ['id','books_count','isbn','original_publication_year','average_rating','ratings_count',\n",
    "                               'work_ratings_count','work_text_reviews_count','ratings_1','ratings_2','ratings_3','ratings_4',\n",
    "                              'ratings_5'])\n",
    "model1 = imputer.fit(bks_df)\n",
    "bks_df = model1.transform(bks_df)\n",
    "bks_df = bks_df.na.drop()\n",
    "bks_df.show(5)"
   ]
  },
  {
   "cell_type": "markdown",
   "id": "7763ca47",
   "metadata": {},
   "source": [
    "# Using VectorAssembler"
   ]
  },
  {
   "cell_type": "code",
   "execution_count": 26,
   "id": "70af1adf",
   "metadata": {},
   "outputs": [
    {
     "name": "stdout",
     "output_type": "stream",
     "text": [
      "root\n",
      " |-- id: integer (nullable = true)\n",
      " |-- book_id: integer (nullable = true)\n",
      " |-- best_book_id: integer (nullable = true)\n",
      " |-- work_id: integer (nullable = true)\n",
      " |-- books_count: integer (nullable = true)\n",
      " |-- isbn: integer (nullable = true)\n",
      " |-- isbn13: double (nullable = true)\n",
      " |-- authors: string (nullable = true)\n",
      " |-- original_publication_year: double (nullable = true)\n",
      " |-- original_title: string (nullable = true)\n",
      " |-- title: string (nullable = true)\n",
      " |-- language_code: string (nullable = true)\n",
      " |-- average_rating: integer (nullable = true)\n",
      " |-- ratings_count: integer (nullable = true)\n",
      " |-- work_ratings_count: integer (nullable = true)\n",
      " |-- work_text_reviews_count: integer (nullable = true)\n",
      " |-- ratings_1: double (nullable = true)\n",
      " |-- ratings_2: integer (nullable = true)\n",
      " |-- ratings_3: integer (nullable = true)\n",
      " |-- ratings_4: integer (nullable = true)\n",
      " |-- ratings_5: integer (nullable = true)\n",
      " |-- image_url: string (nullable = true)\n",
      " |-- small_image_url: string (nullable = true)\n",
      " |-- features: vector (nullable = true)\n",
      "\n"
     ]
    }
   ],
   "source": [
    "# Creating features column with all the features required to make clusters\n",
    "\n",
    "assemble1 = VectorAssembler(inputCols = [\n",
    "    'books_count',\n",
    "    'isbn',\n",
    "    'original_publication_year',\n",
    "    'average_rating',\n",
    "    'ratings_count',\n",
    "    'work_ratings_count',\n",
    "    'work_text_reviews_count',\n",
    "    'ratings_1',\n",
    "    'ratings_2',\n",
    "    'ratings_3',\n",
    "    'ratings_4',\n",
    "    'ratings_5'\n",
    "], outputCol = 'features')\n",
    "assembled_data1 = assemble1.transform(bks_df)\n",
    "assembled_data1.printSchema()"
   ]
  },
  {
   "cell_type": "markdown",
   "id": "517e8799",
   "metadata": {},
   "source": [
    "# Creating scalar feature column"
   ]
  },
  {
   "cell_type": "code",
   "execution_count": 27,
   "id": "1d5a52b2",
   "metadata": {},
   "outputs": [
    {
     "name": "stdout",
     "output_type": "stream",
     "text": [
      "+---+-------+------------+-------+-----------+---------+----------------+--------------------+-------------------------+--------------------+--------------------+-------------+--------------+-------------+------------------+-----------------------+---------+---------+---------+---------+---------+--------------------+--------------------+--------------------+--------------------+\n",
      "| id|book_id|best_book_id|work_id|books_count|     isbn|          isbn13|             authors|original_publication_year|      original_title|               title|language_code|average_rating|ratings_count|work_ratings_count|work_text_reviews_count|ratings_1|ratings_2|ratings_3|ratings_4|ratings_5|           image_url|     small_image_url|            features|        standardized|\n",
      "+---+-------+------------+-------+-----------+---------+----------------+--------------------+-------------------------+--------------------+--------------------+-------------+--------------+-------------+------------------+-----------------------+---------+---------+---------+---------+---------+--------------------+--------------------+--------------------+--------------------+\n",
      "|  1|2767052|     2767052|2792775|        272|439023483|9.78043902348E12|     Suzanne Collins|                   2008.0|    The Hunger Games|The Hunger Games ...|          eng|             4|      4780653|           4942365|                 155254|  66715.0|   127936|   560092|  1481305|  2706317|https://images.gr...|https://images.gr...|[272.0,4.39023483...|[1.51850524564723...|\n",
      "|  2|      3|           3|4640799|        491|439554934|9.78043955493E12|J.K. Rowling, Mar...|                   1997.0|Harry Potter and ...|Harry Potter and ...|          eng|             4|      4602479|           4800065|                  75867|  75504.0|   101676|   455024|  1156318|  3011543|https://images.gr...|https://images.gr...|[491.0,4.39554934...|[2.74112527798821...|\n",
      "|  3|  41865|       41865|3212258|        226|316015849|9.78031601584E12|     Stephenie Meyer|                   2005.0|            Twilight|Twilight (Twiligh...|        en-US|             3|      3866839|           3916824|                  95009| 456191.0|   436802|   793319|   875073|  1355439|https://images.gr...|https://images.gr...|[226.0,3.16015849...|[1.26169921145689...|\n",
      "|  4|   2657|        2657|3275794|        487| 61120081|9.78006112008E12|          Harper Lee|                   1960.0|To Kill a Mocking...|To Kill a Mocking...|          eng|             4|      3198671|           3340896|                  72586|  60427.0|   117415|   446835|  1001952|  1714267|https://images.gr...|https://images.gr...|[487.0,6.1120081E...|[2.71879431849340...|\n",
      "|  5|   4671|        4671| 245494|       1356|743273567|9.78074327356E12| F. Scott Fitzgerald|                   1925.0|    The Great Gatsby|    The Great Gatsby|          eng|             3|      2683664|           2773745|                  51992|  86236.0|   197621|   606158|   936012|   947718|https://images.gr...|https://images.gr...|[1356.0,7.4327356...|[7.57019526874138...|\n",
      "+---+-------+------------+-------+-----------+---------+----------------+--------------------+-------------------------+--------------------+--------------------+-------------+--------------+-------------+------------------+-----------------------+---------+---------+---------+---------+---------+--------------------+--------------------+--------------------+--------------------+\n",
      "only showing top 5 rows\n",
      "\n"
     ]
    }
   ],
   "source": [
    "# Creating scalar feature column of the above vector column\n",
    "\n",
    "scale = StandardScaler(inputCol='features', outputCol='standardized')\n",
    "bks_scale = scale.fit(assembled_data1)\n",
    "data_scale_output = bks_scale.transform(assembled_data1)\n",
    "data_scale_output.show(5)"
   ]
  },
  {
   "cell_type": "markdown",
   "id": "3bd25331",
   "metadata": {},
   "source": [
    "# Evaluating KMeans Model and finding the Silhouette Value"
   ]
  },
  {
   "cell_type": "code",
   "execution_count": 28,
   "id": "573ef590",
   "metadata": {},
   "outputs": [
    {
     "name": "stdout",
     "output_type": "stream",
     "text": [
      "Silhouette Score: 0.11947726078527131\n",
      "Silhouette Score: 0.9561953172843036\n",
      "Silhouette Score: 0.5093102770925079\n",
      "Silhouette Score: 0.519582489307732\n",
      "Silhouette Score: 0.8613387927598714\n",
      "Silhouette Score: 0.8341729341265937\n",
      "Silhouette Score: 0.4205869586165857\n",
      "Silhouette Score: 0.6554889457745444\n",
      "Silhouette Score: 0.6644888752929068\n",
      "Silhouette Score: 0.672107513766212\n",
      "Silhouette Score: 0.6662516442212504\n",
      "Silhouette Score: 0.6390341466952661\n",
      "Silhouette Score: 0.5602396520828834\n"
     ]
    }
   ],
   "source": [
    "# Evaluating KMeans Model and finding the Silhouette Value for cluster 2 to 15\n",
    "\n",
    "silhouette_score = []\n",
    "evaluator = ClusteringEvaluator(predictionCol = 'prediction', featuresCol = 'standardized', metricName = 'silhouette', distanceMeasure='squaredEuclidean')\n",
    "\n",
    "for i in range(2,15):\n",
    "    KMeans_algo = KMeans(featuresCol='standardized', k=i)\n",
    "    KMeans_fit = KMeans_algo.fit(data_scale_output)\n",
    "    output = KMeans_fit.transform(data_scale_output)\n",
    "    score = evaluator.evaluate(output)\n",
    "    silhouette_score.append(score)\n",
    "    print('Silhouette Score:', score)"
   ]
  },
  {
   "cell_type": "markdown",
   "id": "013a8d2a",
   "metadata": {},
   "source": [
    "# Plotting the Silhouette Value"
   ]
  },
  {
   "cell_type": "code",
   "execution_count": 29,
   "id": "77392cb9",
   "metadata": {},
   "outputs": [
    {
     "data": {
      "text/plain": [
       "Text(0, 0.5, 'score')"
      ]
     },
     "execution_count": 29,
     "metadata": {},
     "output_type": "execute_result"
    },
    {
     "data": {
      "image/png": "[encoded data removed]",
      "text/plain": [
       "<Figure size 576x432 with 1 Axes>"
      ]
     },
     "metadata": {
      "needs_background": "light"
     },
     "output_type": "display_data"
    }
   ],
   "source": [
    "# Plotting the Silhouette Value for finding the best cluster k\n",
    "\n",
    "fig, ax = plt.subplots(1,1, figsize =(8,6))\n",
    "ax.plot(range(2,15),silhouette_score)\n",
    "ax.set_xlabel('k (number of clusters)')\n",
    "ax.set_ylabel('score')"
   ]
  },
  {
   "cell_type": "markdown",
   "id": "a7d24024",
   "metadata": {},
   "source": [
    "# Finding the Centroid Value of all the clusters"
   ]
  },
  {
   "cell_type": "code",
   "execution_count": 30,
   "id": "0151bbbf",
   "metadata": {},
   "outputs": [
    {
     "name": "stdout",
     "output_type": "stream",
     "text": [
      "Cluster Centres:\n",
      "[7.98330192e+01 6.90713143e+08 1.98027855e+03 3.55032039e+00\n",
      " 5.38999171e+04 5.94385028e+04 2.71159065e+03 1.26498235e+03\n",
      " 3.00245722e+03 1.12459129e+04 1.98466732e+04 2.40607173e+04]\n",
      "[1.26287938e+02 8.63482760e+07 1.94614786e+03 3.44980545e+00\n",
      " 6.80096988e+04 7.48577774e+04 3.27594553e+03 1.83320700e+03\n",
      " 4.36500233e+03 1.53953518e+04 2.51720965e+04 2.80921198e+04]\n",
      "[7.72815272e+01 3.87870511e+08 1.99036134e+03 3.49865021e+00\n",
      " 7.08911203e+04 7.79330879e+04 3.55135326e+03 1.78387312e+03\n",
      " 4.01357694e+03 1.48778338e+04 2.61300231e+04 3.11277809e+04]\n",
      "[8.49312169e+01 1.87008981e+09 1.98701058e+03 3.54497354e+00\n",
      " 3.88432222e+04 4.53963280e+04 2.37377778e+03 1.06204762e+03\n",
      " 2.48775661e+03 9.11477778e+03 1.56521852e+04 1.70795608e+04]\n",
      "[5.35462520e+01 1.47267913e+09 1.99548005e+03 3.57097289e+00\n",
      " 4.98188317e+04 5.54939769e+04 3.63077831e+03 1.28493222e+03\n",
      " 2.81215152e+03 1.01477775e+04 1.84102504e+04 2.28388652e+04]\n"
     ]
    }
   ],
   "source": [
    "# Finding the Centroid Value of all the clusters\n",
    "kmeans = KMeans().setK(5).setSeed(1)\n",
    "kmodel = kmeans.fit(data_scale_output)\n",
    "pred = kmodel.transform(data_scale_output)\n",
    "eva = ClusteringEvaluator()\n",
    "print('Cluster Centres:')\n",
    "ctr=[]\n",
    "centres = kmodel.clusterCenters()\n",
    "for cen in centres:\n",
    "    ctr.append(cen)\n",
    "    print(cen)"
   ]
  },
  {
   "cell_type": "markdown",
   "id": "70c0ab88",
   "metadata": {},
   "source": [
    "# Finding Silhouette Score for Bisecting KMeans ALgorithm"
   ]
  },
  {
   "cell_type": "code",
   "execution_count": null,
   "id": "8296cd13",
   "metadata": {},
   "outputs": [
    {
     "name": "stdout",
     "output_type": "stream",
     "text": [
      "Silhouette Score: 0.9738611248616339\n",
      "Silhouette Score: 0.8270422243212405\n",
      "Silhouette Score: 0.47666576392608856\n",
      "Silhouette Score: 0.3778177689871372\n",
      "Silhouette Score: 0.5258772070224862\n",
      "Silhouette Score: 0.5250159694394806\n",
      "Silhouette Score: 0.5262440927640881\n",
      "Silhouette Score: 0.27073823798641417\n",
      "Silhouette Score: 0.32598628706427846\n"
     ]
    }
   ],
   "source": [
    "# Finding Silhouette Score for Bisecting KMeans ALgorithm\n",
    "\n",
    "from pyspark.ml.clustering import BisectingKMeans\n",
    "\n",
    "bisecting_silhouette_score = []\n",
    "evaluator1 = ClusteringEvaluator(predictionCol = 'prediction', featuresCol = 'standardized', metricName = 'silhouette', distanceMeasure='squaredEuclidean')\n",
    "\n",
    "for i in range(2,15):\n",
    "    KMeans_algo1 = BisectingKMeans(featuresCol='standardized', k=i)\n",
    "    KMeans_fit1 = KMeans_algo1.fit(data_scale_output)\n",
    "    output1 = KMeans_fit1.transform(data_scale_output)\n",
    "    score1 = evaluator1.evaluate(output1)\n",
    "    bisecting_silhouette_score.append(score1)\n",
    "    print('Silhouette Score:', score1)"
   ]
  },
  {
   "cell_type": "code",
   "execution_count": null,
   "id": "3a872a37",
   "metadata": {},
   "outputs": [],
   "source": [
    "fig, ax = plt.subplots(1,1, figsize =(8,6))\n",
    "ax.plot(range(2,15),bisecting_silhouette_score)\n",
    "ax.set_xlabel('k (number of clusters)')\n",
    "ax.set_ylabel('score')"
   ]
  },
  {
   "cell_type": "code",
   "execution_count": null,
   "id": "ff6f3e88",
   "metadata": {},
   "outputs": [],
   "source": [
    "kmeans1 = KMeans().setK(6).setSeed(1)\n",
    "model111 = kmeans1.fit(data_scale_output)\n",
    "pred1 = model111.transform(data_scale_output)\n",
    "eva1 = ClusteringEvaluator()\n",
    "print('Cluster Centres:')\n",
    "ctr1=[]\n",
    "centres1 = model111.clusterCenters()\n",
    "for cen1 in centres1:\n",
    "    ctr1.append(cen1)\n",
    "    print(cen1)"
   ]
  },
  {
   "cell_type": "markdown",
   "id": "2a41c416",
   "metadata": {},
   "source": [
    "# Finding cluster position for each book"
   ]
  },
  {
   "cell_type": "code",
   "execution_count": null,
   "id": "d2b3ee41",
   "metadata": {},
   "outputs": [],
   "source": [
    "# Finding cluster position for each book\n",
    "\n",
    "rpred = pred.collect()\n",
    "pred_df = sqlContext.createDataFrame(rpred)\n",
    "pred_df.show(50)"
   ]
  },
  {
   "cell_type": "markdown",
   "id": "32eee925",
   "metadata": {},
   "source": [
    "# Finding the best recommended book by ALS Algorithm"
   ]
  },
  {
   "cell_type": "code",
   "execution_count": null,
   "id": "84d27372",
   "metadata": {},
   "outputs": [],
   "source": [
    "# Finding the best recommended book by ALS Algorithm\n",
    "\n",
    "top_als = book_output.head(1)\n",
    "top_als = spark.createDataFrame(top_als)\n",
    "top_als = top_als.select('id')\n",
    "top_als.show()"
   ]
  },
  {
   "cell_type": "markdown",
   "id": "891eb330",
   "metadata": {},
   "source": [
    "#  Finding cluster value for above selected book id"
   ]
  },
  {
   "cell_type": "code",
   "execution_count": null,
   "id": "ed7d6c3d",
   "metadata": {},
   "outputs": [],
   "source": [
    "# Finding cluster value for above selected book id\n",
    "\n",
    "k_topals = pred_df.join(top_als,'id','inner')\n",
    "k_topals.show()\n",
    "k_df = k_topals.select('prediction')\n",
    "bk_df = book_output.select('id','rate_prediction')"
   ]
  },
  {
   "cell_type": "code",
   "execution_count": null,
   "id": "efbbec59",
   "metadata": {},
   "outputs": [],
   "source": [
    "k_means_op = pred_df.join(k_df,'prediction')\n",
    "k_means_op.show()"
   ]
  },
  {
   "cell_type": "markdown",
   "id": "1ebd8db1",
   "metadata": {},
   "source": [
    "Finding the books recommended by ALS Algorithm and lying in the same cluster as the highly recommended book from ALS\n"
   ]
  },
  {
   "cell_type": "code",
   "execution_count": null,
   "id": "a36914f5",
   "metadata": {
    "scrolled": false
   },
   "outputs": [],
   "source": [
    "# Finding the books recommended by ALS Algorithm and lying in the same cluster as the highly recommended book from ALS\n",
    "\n",
    "final_reco = pred_df.join(bk_df,'id','inner').join(k_df,'prediction','inner')\n",
    "final_reco = final_reco.select('id', 'authors', 'original_title', 'original_publication_year', 'language_code', 'rate_prediction', 'prediction')\n",
    "final_reco.show()"
   ]
  },
  {
   "cell_type": "markdown",
   "id": "074f14e2",
   "metadata": {},
   "source": [
    "# Finding highest rated books for New User"
   ]
  },
  {
   "cell_type": "code",
   "execution_count": null,
   "id": "2c0691b1",
   "metadata": {},
   "outputs": [],
   "source": [
    "# Finding highest rated books for New User\n",
    "\n",
    "new_rate = bks_df.sort(bks_df.average_rating.desc(), bks_df.ratings_count.desc(), bks_df.ratings_1.desc(), bks_df.ratings_2.desc(), bks_df.ratings_3.desc(), bks_df.ratings_4.desc(), bks_df.ratings_5.desc())\n",
    "new_rate.show()"
   ]
  },
  {
   "cell_type": "code",
   "execution_count": null,
   "id": "ea152e4d",
   "metadata": {},
   "outputs": [],
   "source": [
    "new_top = new_rate.head(1)\n",
    "new_top = spark.createDataFrame(new_top)\n",
    "new_top = new_top.select('id')"
   ]
  },
  {
   "cell_type": "code",
   "execution_count": null,
   "id": "64573f75",
   "metadata": {},
   "outputs": [],
   "source": [
    "new_cluster = pred_df.join(new_top,'id','inner')\n",
    "new_cluster = new_cluster.select('prediction')"
   ]
  },
  {
   "cell_type": "markdown",
   "id": "002cdcf4",
   "metadata": {},
   "source": [
    "# Final output for new user"
   ]
  },
  {
   "cell_type": "code",
   "execution_count": null,
   "id": "5895a008",
   "metadata": {},
   "outputs": [],
   "source": [
    "# Final output for new user\n",
    "\n",
    "new_recommend = pred_df.join(new_rate,'id','inner').join(new_cluster,'prediction','inner')\n",
    "new_rec_df = new_recommend.toPandas()\n",
    "new_rec_df = new_rec_df.iloc[:,:-32]\n",
    "new_rec_df.head()"
   ]
  }
 ],
 "metadata": {
  "kernelspec": {
   "display_name": "Python 3",
   "language": "python",
   "name": "python3"
  },
  "language_info": {
   "codemirror_mode": {
    "name": "ipython",
    "version": 3
   },
   "file_extension": ".py",
   "mimetype": "text/x-python",
   "name": "python",
   "nbconvert_exporter": "python",
   "pygments_lexer": "ipython3",
   "version": "3.8.8"
  }
 },
 "nbformat": 4,
 "nbformat_minor": 5
}
